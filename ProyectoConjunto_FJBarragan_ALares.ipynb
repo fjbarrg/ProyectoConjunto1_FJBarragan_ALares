{
 "cells": [
  {
   "cell_type": "markdown",
   "metadata": {},
   "source": [
    "<img style=\"float: left; margin: 30px 15px 15px 15px;\" src=\"https://pngimage.net/wp-content/uploads/2018/06/logo-iteso-png-5.png\" width=\"300\" height=\"500\" /> \n",
    "    \n",
    "    \n",
    "### <font color='navy'> Simulación de procesos financieros. \n",
    "\n",
    "**Nombres:** Francisco Javier Barragán García // Andrés LAres Barragán\n",
    "\n",
    "**Fecha:** 01 febrero del 2021\n",
    "\n",
    "**Expediente** : 703647 // 724055\n",
    "**Profesor:** Oscar David Jaramillo Zuluaga.\n",
    "\n",
    "# Tarea 1:Clase 2"
   ]
  },
  {
   "cell_type": "markdown",
   "metadata": {},
   "source": [
    "## Creación de Proyecto Colaborativo\n",
    " - El archivo debe realizarse en parejas y sólo uno de los dos debe crear en su cuenta de Github un repositorio con el nombre ProyectoConjunto_APELLIDO1_APELLIDO2. A la persona que creó el repositorio la llamaremos (ESTUDIANTE 1 ). El APELLIDO se debe de escribir (Iniciales del nombre y primer apellido), por ejemplo si yo creara el archivo lo debería de nombrar ProyectoConjunto_ODJaramillo.\n",
    " - Posteriormente, desde la cuenta del (ESTUDIANTE 2), 'aquel que no creó el repositorio anterior', ingresar al perfil del ESTUDIANTE 1 y en el repositorio creado en el paso 1, realizar un \"fork\" de este repositorio en su perfil, y además realizar los pasos en Gitkraken para hacer dicho repositorio \"Remoto (REMOTE)\" VER DICHO PROCEDIMIENTO EN LA CLASE Clase2_GitTurorial2.\n",
    " - Luego de realizados los pasos 1 y 2, el ESTUDIANTE 1 y ESTUDIANTE 2, desde su computador realizar un clone del repositorio creado en el numeral 1 en la carpeta que cada quién haya asignado para el curso en su computador.\n",
    " - Luego desde Jupyter el ESTUDIANTE 1, crea un nuevo notebook en el repositorio del paso 3.\n",
    " - En este nuevo notebook el ESTUDIANTE 1 y ESTUDIANTE 2, deben realizar una presentación describiendo sus expectativas del curso y la transcipción de la Figura 1 y Figura 2 respectivamente, haciendo uso de la sintaxis Markdown. Recuerden definir unas celdas donde cada usuario modificará el cuaderno de python para evitar futuros conflictos.> Descripción de la tarea"
   ]
  },
  {
   "cell_type": "markdown",
   "metadata": {},
   "source": [
    "Estudiante 1: <span style=\"color:red\"> **Francisco Javier Barragan Garcias**</span> \n",
    "\n",
    "\n",
    "Estudiante 2: <span style=\"color:blue\"> **Andres Lares Barragan** </span>:\n",
    "   \n",
    "   Hasta ahora, las clases de programación que he llevado no le han dado tanto énfasis a que los estudiantes aprendan a programar de manera correcta. Mi expectativa de esta clase es elevar mis habilidades de programación a tal grado que pueda ser útil en el ámbito profesional. Me interesa bastante aprender a simular el comportamiento de fenómenos financieros."
   ]
  },
  {
   "cell_type": "markdown",
   "metadata": {},
   "source": [
    "### Ejercicio 1: <span style=\"color:red\">Estudiante 1</span> debe transcribir Figura 1."
   ]
  },
  {
   "cell_type": "code",
   "execution_count": null,
   "metadata": {},
   "outputs": [],
   "source": [
    "# Código de solución \n",
    ".#cambio de prueba - Andres\n",
    ".\n",
    ".\n",
    ".\n"
   ]
  },
  {
   "cell_type": "markdown",
   "metadata": {},
   "source": [
    "### Ejercicio 2:<span style=\"color:blue\"> Estudiante 2</span> debe transcribir Figura 1.\n"
   ]
  },
  {
   "cell_type": "markdown",
   "metadata": {},
   "source": [
    "|$$i$$          | 1   | 2   | 3   | 4   | 5 | 6 | 7  |\n",
    "|-------------|-----|-----|-----|-----|---|---|----|\n",
    "| $$E_{i}(V)$$    | 12  | 10  | 24  | 12  | - | - | -  |\n",
    "| $$r_{i}(\\Omega)$$ | 0.1 | 0.5 | 0.2 | 0.5 | - | - | -  |\n",
    "| $$R_{i}(\\Omega)$$ | 25  | 40  | 16  | 20  | 9 | 4 | 20 |"
   ]
  },
  {
   "cell_type": "markdown",
   "metadata": {},
   "source": [
    "<span style=\"color:turquoise\"> **Kemna y Vorst (1990)**</span> muestran que las opciones asiáticas con medias geométricas continua se pueden valuar con el mismo enfoque que las opciones *plain vanilla*; solo se deben cambiar los par'ametros de volatilidad $\\sigma$ por $\\sigma_{a}$, y el costo de acarreo $b$ por $b_{a}$.\n",
    "\n",
    "De acuerdo con Kenma y Vorst, las fórmulas para valuar una opción de compra y una opción de venta son:"
   ]
  },
  {
   "cell_type": "markdown",
   "metadata": {},
   "source": [
    " - $\\Large{ c \\approx S_{t} e^{(b_{A}-r)(T-t)}\\phi(d_{1}) - Ke^{-r(T-t)}\\phi(d_{2})} $\n",
    " \n",
    "\n",
    " - $\\Large{ p \\approx Ke^{-r(T-t)}\\phi(-d_{2}) - S_{t} e^{(b_{A}-r)(T-t)}\\phi(-d_{1})} $"
   ]
  },
  {
   "cell_type": "markdown",
   "metadata": {},
   "source": [
    "con $d_{1}$ y $d_{2}$ dados por:"
   ]
  },
  {
   "cell_type": "markdown",
   "metadata": {},
   "source": [
    " - $\\Large{d_{1} = \\frac{\\ln(S_t/K) + (b_A+1/2\\sigma_a^2)(T-t)}{\\sigma\\sqrt{T-t}}}$\n",
    " \n",
    "\n",
    " - $\\Large{d_2 = d_1 - \\sigma_a\\sqrt{T-t}}.$"
   ]
  },
  {
   "cell_type": "markdown",
   "metadata": {},
   "source": [
    "La función $\\phi(d)$ es la función de distribución acumulada de $E \\sim \\mathcal{N}(0,1).$ La volatilidad ajustada es igual a:\n",
    "\n",
    " - $\\Large{ \\sigma_a = \\frac{\\sigma}{\\sqrt{3}},}$\n",
    "\n",
    "mientras que el costo de acarreo ajustado es:\n",
    "\n",
    " - $\\Large{ b_a = \\frac{1}{2}(v - \\frac{\\sigma^2}{6}).}$"
   ]
  },
  {
   "cell_type": "markdown",
   "metadata": {},
   "source": [
    "### Ejercicio 3: <span style=\"color:red\">Estudiante 1</span>  realizará un programa que imprima la *serie de fibonacci* para sus primeros 100 términos en un array de python."
   ]
  },
  {
   "cell_type": "code",
   "execution_count": null,
   "metadata": {},
   "outputs": [],
   "source": []
  },
  {
   "cell_type": "markdown",
   "metadata": {},
   "source": [
    "### Ejercicio 4:<span style=\"color:blue\"> Estudiante 2</span> generará un programa que muestre los *números primos* del 0-100."
   ]
  },
  {
   "cell_type": "code",
   "execution_count": 3,
   "metadata": {},
   "outputs": [],
   "source": [
    "import numpy as np"
   ]
  },
  {
   "cell_type": "code",
   "execution_count": 59,
   "metadata": {},
   "outputs": [
    {
     "data": {
      "text/plain": [
       "array([ 2,  3,  5,  7, 11, 13, 17, 19, 23, 29, 31, 37, 41, 43, 47, 53, 59,\n",
       "       61, 67, 71, 73, 79, 83, 89, 97])"
      ]
     },
     "execution_count": 59,
     "metadata": {},
     "output_type": "execute_result"
    }
   ],
   "source": [
    "primes = []\n",
    "for i in range (2,101):\n",
    "    flag = True\n",
    "    for j in range(2,i):\n",
    "        if i % j ==0:\n",
    "            flag = False\n",
    "    if flag == True:\n",
    "        primes.append(i)\n",
    "np.array(primes)"
   ]
  }
 ],
 "metadata": {
  "kernelspec": {
   "display_name": "Python 3",
   "language": "python",
   "name": "python3"
  },
  "language_info": {
   "codemirror_mode": {
    "name": "ipython",
    "version": 3
   },
   "file_extension": ".py",
   "mimetype": "text/x-python",
   "name": "python",
   "nbconvert_exporter": "python",
   "pygments_lexer": "ipython3",
   "version": "3.8.5"
  }
 },
 "nbformat": 4,
 "nbformat_minor": 2
}
